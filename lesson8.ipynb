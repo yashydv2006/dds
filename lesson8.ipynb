{
  "nbformat": 4,
  "nbformat_minor": 0,
  "metadata": {
    "colab": {
      "provenance": [],
      "include_colab_link": true
    },
    "kernelspec": {
      "name": "python3",
      "display_name": "Python 3"
    },
    "language_info": {
      "name": "python"
    }
  },
  "cells": [
    {
      "cell_type": "markdown",
      "metadata": {
        "id": "view-in-github",
        "colab_type": "text"
      },
      "source": [
        "<a href=\"https://colab.research.google.com/github/yashydv2006/dds/blob/main/lesson8.ipynb\" target=\"_parent\"><img src=\"https://colab.research.google.com/assets/colab-badge.svg\" alt=\"Open In Colab\"/></a>"
      ]
    },
    {
      "cell_type": "markdown",
      "source": [
        "# 📘 Lesson 8: Stack Using Dynamic Arrays\n",
        "\n",
        "## 🎯 Objectives:\n",
        "- Implement stack using **dynamically allocated memory**\n",
        "- Understand how to **resize stack** at runtime\n",
        "- Compare with static array-based stack\n",
        "- Practice in both Python and C\n",
        "\n",
        "---\n",
        "\n",
        "## 🔁 Stack Recap:\n",
        "- **LIFO** (Last In, First Out)\n",
        "- Operations:\n",
        "  - `push()` – Add to top\n",
        "  - `pop()` – Remove from top\n",
        "  - `peek()` – View top\n",
        "  - `resize()` – Expand stack memory dynamically\n",
        "\n",
        "---\n",
        "\n",
        "## 💡 Why Dynamic Arrays?\n",
        "\n",
        "- Static stacks (fixed arrays) have limited size\n",
        "- Dynamic stacks allow flexible **runtime growth**\n",
        "- Achieved in C using `malloc()` + `realloc()`\n",
        "\n",
        "Let’s implement it in Python and C.\n"
      ],
      "metadata": {
        "id": "horGTIEE38Xs"
      }
    },
    {
      "cell_type": "code",
      "source": [
        "class DynamicStack:\n",
        "    def __init__(self):\n",
        "        self.stack = []\n",
        "\n",
        "    def push(self, value):\n",
        "        self.stack.append(value)\n",
        "        print(f\"Pushed: {value}\")\n",
        "\n",
        "    def pop(self):\n",
        "        if not self.stack:\n",
        "            print(\"Stack Underflow!\")\n",
        "        else:\n",
        "            print(f\"Popped: {self.stack.pop()}\")\n",
        "\n",
        "    def peek(self):\n",
        "        if not self.stack:\n",
        "            print(\"Stack is Empty\")\n",
        "        else:\n",
        "            print(f\"Top: {self.stack[-1]}\")\n",
        "\n",
        "    def traverse(self):\n",
        "        print(\"Stack (Top to Bottom):\", self.stack[::-1])\n",
        "\n",
        "# 🔍 Test\n",
        "ds = DynamicStack()\n",
        "ds.push(10)\n",
        "ds.push(20)\n",
        "ds.peek()\n",
        "ds.traverse()\n",
        "ds.pop()\n",
        "ds.traverse()\n"
      ],
      "metadata": {
        "id": "EZXIXVbL3_B1"
      },
      "execution_count": null,
      "outputs": []
    },
    {
      "cell_type": "markdown",
      "source": [
        "---\n",
        "\n",
        "## 💻 C Implementation of Stack Using Dynamic Arrays\n",
        "\n",
        "We’ll allocate memory using `malloc()` and resize using `realloc()` when the stack is full.\n"
      ],
      "metadata": {
        "id": "ZrqofFkf4B7V"
      }
    },
    {
      "cell_type": "code",
      "source": [
        "c_code = \"\"\"\n",
        "#include <stdio.h>\n",
        "#include <stdlib.h>\n",
        "\n",
        "int *stack;\n",
        "int top = -1;\n",
        "int capacity = 2;\n",
        "\n",
        "void push(int value) {\n",
        "    if (top + 1 == capacity) {\n",
        "        capacity *= 2;\n",
        "        stack = realloc(stack, capacity * sizeof(int));\n",
        "        printf(\"Resized stack to capacity %d\\\\n\", capacity);\n",
        "    }\n",
        "    stack[++top] = value;\n",
        "    printf(\"Pushed: %d\\\\n\", value);\n",
        "}\n",
        "\n",
        "void pop() {\n",
        "    if (top == -1) {\n",
        "        printf(\"Stack Underflow!\\\\n\");\n",
        "    } else {\n",
        "        printf(\"Popped: %d\\\\n\", stack[top--]);\n",
        "    }\n",
        "}\n",
        "\n",
        "void peek() {\n",
        "    if (top == -1) {\n",
        "        printf(\"Stack is Empty\\\\n\");\n",
        "    } else {\n",
        "        printf(\"Top: %d\\\\n\", stack[top]);\n",
        "    }\n",
        "}\n",
        "\n",
        "void traverse() {\n",
        "    if (top == -1) {\n",
        "        printf(\"Stack is Empty\\\\n\");\n",
        "    } else {\n",
        "        printf(\"Stack (Top to Bottom): \");\n",
        "        for (int i = top; i >= 0; i--)\n",
        "            printf(\"%d \", stack[i]);\n",
        "        printf(\"\\\\n\");\n",
        "    }\n",
        "}\n",
        "\n",
        "int main() {\n",
        "    stack = malloc(capacity * sizeof(int));\n",
        "    push(10);\n",
        "    push(20);\n",
        "    push(30); // triggers resize\n",
        "    peek();\n",
        "    traverse();\n",
        "    pop();\n",
        "    traverse();\n",
        "    free(stack);\n",
        "    return 0;\n",
        "}\n",
        "\"\"\"\n",
        "\n",
        "with open(\"lesson8_dynamic_stack.c\", \"w\") as f:\n",
        "    f.write(c_code)\n"
      ],
      "metadata": {
        "id": "nRejGnqK4DTb"
      },
      "execution_count": null,
      "outputs": []
    },
    {
      "cell_type": "code",
      "source": [
        "!gcc lesson8_dynamic_stack.c -o lesson8_stack\n"
      ],
      "metadata": {
        "id": "TpXYc_Fb4FOH"
      },
      "execution_count": null,
      "outputs": []
    },
    {
      "cell_type": "code",
      "source": [
        "!./lesson8_stack\n"
      ],
      "metadata": {
        "id": "Hv__Ppqe4Gcr"
      },
      "execution_count": null,
      "outputs": []
    },
    {
      "cell_type": "markdown",
      "source": [
        "---\n",
        "\n",
        "## ✅ Summary\n",
        "\n",
        "- Stack using **dynamic arrays** allows runtime memory management\n",
        "- C uses `malloc()` and `realloc()` to expand array\n",
        "- Python handles this internally with `list.append()`\n",
        "\n",
        "---\n",
        "\n",
        "## 📘 Viva Questions:\n",
        "\n",
        "1. Why use dynamic arrays for stacks?\n",
        "2. What is `realloc()`? How does it differ from `malloc()`?\n",
        "3. How is resizing handled in dynamic stack?\n",
        "4. What is the time complexity of push when resizing is involved?\n",
        "\n",
        "⏭️ Next: **Lesson 9: Applications: Polish Notation, Infix to Postfix**\n"
      ],
      "metadata": {
        "id": "NbFIsajY4Hto"
      }
    }
  ]
}