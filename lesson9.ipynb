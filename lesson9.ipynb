{
  "nbformat": 4,
  "nbformat_minor": 0,
  "metadata": {
    "colab": {
      "provenance": [],
      "include_colab_link": true
    },
    "kernelspec": {
      "name": "python3",
      "display_name": "Python 3"
    },
    "language_info": {
      "name": "python"
    }
  },
  "cells": [
    {
      "cell_type": "markdown",
      "metadata": {
        "id": "view-in-github",
        "colab_type": "text"
      },
      "source": [
        "<a href=\"https://colab.research.google.com/github/yashydv2006/dds/blob/main/lesson9.ipynb\" target=\"_parent\"><img src=\"https://colab.research.google.com/assets/colab-badge.svg\" alt=\"Open In Colab\"/></a>"
      ]
    },
    {
      "cell_type": "markdown",
      "source": [
        "# 📘 Lesson 9: Stack Applications – Polish Notation & Infix to Postfix\n",
        "\n",
        "## 🎯 Objectives:\n",
        "- Understand **Polish notation** and why it's used\n",
        "- Convert infix expressions (A + B) to postfix (A B +)\n",
        "- Use a **stack** to handle operators and precedence\n",
        "- Implement in Python and C\n",
        "\n",
        "---\n",
        "\n",
        "## 📌 Polish Notation Types:\n",
        "- **Infix**: A + B → operator between operands (needs precedence rules)\n",
        "- **Postfix**: A B + → operator after operands (easier to evaluate)\n",
        "- **Prefix**: + A B → operator before operands (used in compilers)\n",
        "\n",
        "We will focus on **infix ➝ postfix conversion** using stacks.\n"
      ],
      "metadata": {
        "id": "VU3KrW_z4gFG"
      }
    },
    {
      "cell_type": "code",
      "source": [
        "def precedence(op):\n",
        "    if op == '+' or op == '-':\n",
        "        return 1\n",
        "    elif op == '*' or op == '/':\n",
        "        return 2\n",
        "    return 0\n",
        "\n",
        "def infix_to_postfix(expression):\n",
        "    result = \"\"\n",
        "    stack = []\n",
        "\n",
        "    for char in expression:\n",
        "        if char.isalnum():  # Operand\n",
        "            result += char\n",
        "        elif char == '(':\n",
        "            stack.append(char)\n",
        "        elif char == ')':\n",
        "            while stack and stack[-1] != '(':\n",
        "                result += stack.pop()\n",
        "            stack.pop()  # remove '('\n",
        "        else:  # Operator\n",
        "            while stack and precedence(stack[-1]) >= precedence(char):\n",
        "                result += stack.pop()\n",
        "            stack.append(char)\n",
        "\n",
        "    while stack:\n",
        "        result += stack.pop()\n",
        "\n",
        "    return result\n",
        "\n",
        "# 🔍 Test\n",
        "expr = \"A+B*(C-D)/E\"\n",
        "print(\"Infix  :\", expr)\n",
        "print(\"Postfix:\", infix_to_postfix(expr))  # Expected: ABCD-*E/+\n"
      ],
      "metadata": {
        "id": "Uoexg_uD4iWH"
      },
      "execution_count": null,
      "outputs": []
    },
    {
      "cell_type": "markdown",
      "source": [
        "---\n",
        "\n",
        "## 🧠 Explanation:\n",
        "\n",
        "1. Operands → directly to output\n",
        "2. Operators → pushed to stack, respecting precedence\n",
        "3. '(' → pushed to stack, ')' → pop until '('\n",
        "4. At end → pop remaining stack to result\n",
        "\n",
        "---\n",
        "\n",
        "## 💡 Real-World Use:\n",
        "Postfix expressions are used in:\n",
        "- **Expression evaluators**\n",
        "- **Compilers**\n",
        "- **Reverse Polish calculators**\n"
      ],
      "metadata": {
        "id": "WYkCyfCa4lDM"
      }
    },
    {
      "cell_type": "code",
      "source": [
        "c_code = \"\"\"\n",
        "#include <stdio.h>\n",
        "#include <ctype.h>\n",
        "#define SIZE 100\n",
        "\n",
        "char stack[SIZE];\n",
        "int top = -1;\n",
        "\n",
        "void push(char ch) {\n",
        "    stack[++top] = ch;\n",
        "}\n",
        "\n",
        "char pop() {\n",
        "    return stack[top--];\n",
        "}\n",
        "\n",
        "char peek() {\n",
        "    return stack[top];\n",
        "}\n",
        "\n",
        "int precedence(char op) {\n",
        "    if(op == '+' || op == '-') return 1;\n",
        "    if(op == '*' || op == '/') return 2;\n",
        "    return 0;\n",
        "}\n",
        "\n",
        "void infix_to_postfix(char* exp) {\n",
        "    char result[SIZE] = \"\";\n",
        "    int k = 0;\n",
        "\n",
        "    for(int i = 0; exp[i] != '\\\\0'; i++) {\n",
        "        char ch = exp[i];\n",
        "\n",
        "        if (isalnum(ch)) {\n",
        "            result[k++] = ch;\n",
        "        } else if (ch == '(') {\n",
        "            push(ch);\n",
        "        } else if (ch == ')') {\n",
        "            while (top != -1 && peek() != '(')\n",
        "                result[k++] = pop();\n",
        "            pop();  // remove '('\n",
        "        } else {\n",
        "            while (top != -1 && precedence(peek()) >= precedence(ch))\n",
        "                result[k++] = pop();\n",
        "            push(ch);\n",
        "        }\n",
        "    }\n",
        "\n",
        "    while (top != -1)\n",
        "        result[k++] = pop();\n",
        "\n",
        "    result[k] = '\\\\0';\n",
        "    printf(\"Postfix: %s\\\\n\", result);\n",
        "}\n",
        "\n",
        "int main() {\n",
        "    char expr[] = \"A+B*(C-D)/E\";\n",
        "    printf(\"Infix: %s\\\\n\", expr);\n",
        "    infix_to_postfix(expr);\n",
        "    return 0;\n",
        "}\n",
        "\"\"\"\n",
        "\n",
        "with open(\"lesson9_infix_postfix.c\", \"w\") as f:\n",
        "    f.write(c_code)\n"
      ],
      "metadata": {
        "id": "pzmobKh_4mmB"
      },
      "execution_count": null,
      "outputs": []
    },
    {
      "cell_type": "code",
      "source": [
        "!gcc lesson9_infix_postfix.c -o lesson9\n"
      ],
      "metadata": {
        "id": "jHWeScBO4o0f"
      },
      "execution_count": null,
      "outputs": []
    },
    {
      "cell_type": "code",
      "source": [
        "!./lesson9\n"
      ],
      "metadata": {
        "id": "h0tANiiP4p9v"
      },
      "execution_count": null,
      "outputs": []
    },
    {
      "cell_type": "markdown",
      "source": [
        "---\n",
        "\n",
        "## ✅ Summary\n",
        "\n",
        "- Postfix (Polish) notation simplifies evaluation — no need for brackets or precedence rules\n",
        "- Stacks allow conversion from infix ➝ postfix efficiently\n",
        "- Implemented in both Python and C\n",
        "\n",
        "---\n",
        "\n",
        "## 📘 Viva Questions:\n",
        "\n",
        "1. What is Polish notation?\n",
        "2. Why is postfix preferred for evaluation?\n",
        "3. What is the role of stack in conversion?\n",
        "4. How do you handle operator precedence?\n",
        "\n",
        "⏭️ Next: **Lesson 10: Evaluation of Postfix Expression**\n"
      ],
      "metadata": {
        "id": "WH9Fwf-O4rJA"
      }
    }
  ]
}