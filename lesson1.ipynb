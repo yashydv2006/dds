{
  "nbformat": 4,
  "nbformat_minor": 0,
  "metadata": {
    "colab": {
      "provenance": [],
      "include_colab_link": true
    },
    "kernelspec": {
      "name": "python3",
      "display_name": "Python 3"
    },
    "language_info": {
      "name": "python"
    }
  },
  "cells": [
    {
      "cell_type": "markdown",
      "metadata": {
        "id": "view-in-github",
        "colab_type": "text"
      },
      "source": [
        "<a href=\"https://colab.research.google.com/github/yashydv2006/dds/blob/main/lesson1.ipynb\" target=\"_parent\"><img src=\"https://colab.research.google.com/assets/colab-badge.svg\" alt=\"Open In Colab\"/></a>"
      ]
    },
    {
      "cell_type": "markdown",
      "source": [
        "# 📘 Lesson 1: Course Introduction & Importance of Data Structures\n",
        "\n",
        "---\n",
        "\n",
        "## 🎯 Objectives:\n",
        "- Understand what data structures are\n",
        "- Learn why they are important in programming\n",
        "- Implement basic data structure operations in both Python and C\n",
        "\n",
        "---\n",
        "\n",
        "## 📚 What is a Data Structure?\n",
        "\n",
        "A **data structure** is a way of organizing and storing data in memory to perform operations efficiently.\n",
        "\n",
        "> Real-world analogy: A bookshelf helps you organize books. Similarly, a data structure helps organize data for easy access and modification.\n",
        "\n",
        "---\n",
        "\n",
        "## ❓ Why Are Data Structures Important?\n",
        "- Organize data efficiently\n",
        "- Improve speed and memory usage\n",
        "- Make complex operations easier\n",
        "- Foundation for algorithms, applications, and system design\n"
      ],
      "metadata": {
        "id": "f_Ekvg1RGyC3"
      }
    },
    {
      "cell_type": "markdown",
      "source": [
        "# PYTHON"
      ],
      "metadata": {
        "id": "KaR0TjQYPMpR"
      }
    },
    {
      "cell_type": "code",
      "source": [
        "# ✅ Python: Store and search student names using a list\n",
        "\n",
        "# Create a list of students\n",
        "students = [\"Ali\", \"Sara\", \"Zaid\"]\n",
        "\n",
        "# Add a new student\n",
        "students.append(\"Hina\")\n",
        "\n",
        "# Search for a student\n",
        "search_name = \"Zaid\"\n",
        "if search_name in students:\n",
        "    print(f\"{search_name} found at index {students.index(search_name)}\")\n",
        "else:\n",
        "    print(f\"{search_name} not found\")\n",
        "\n",
        "# Display all students\n",
        "print(\"📋 Student List:\", students)\n"
      ],
      "metadata": {
        "colab": {
          "base_uri": "https://localhost:8080/"
        },
        "id": "8gVzbb-MG0Su",
        "outputId": "d1e2637e-e58e-4887-e984-c9fc6e54c458"
      },
      "execution_count": null,
      "outputs": [
        {
          "output_type": "stream",
          "name": "stdout",
          "text": [
            "Zaid found at index 2\n",
            "📋 Student List: ['Ali', 'Sara', 'Zaid', 'Hina']\n"
          ]
        }
      ]
    },
    {
      "cell_type": "markdown",
      "source": [
        "---\n",
        "\n",
        "## 🧠 Explanation:\n",
        "\n",
        "- We used a **Python list**, which works like a dynamic array.\n",
        "- Performed common data structure operations:\n",
        "  - Insertion: `append()`\n",
        "  - Search: `in`, `index()`\n",
        "  - Traversal: `print()`\n",
        "\n",
        "Let’s now do the same using C.\n",
        "\n",
        "---\n"
      ],
      "metadata": {
        "id": "7Ay4yyf5G3yE"
      }
    },
    {
      "cell_type": "markdown",
      "source": [
        "# C\n",
        "\n"
      ],
      "metadata": {
        "id": "avQaeoHVPGDx"
      }
    },
    {
      "cell_type": "markdown",
      "source": [
        "\n",
        "## ⚙️ How to Run C Code in Google Colab\n",
        "\n",
        "Google Colab allows you to compile and run C code using GCC.\n",
        "We will:\n",
        "1. Write C code to a file\n",
        "2. Compile it using `gcc`\n",
        "3. Run the compiled program"
      ],
      "metadata": {
        "id": "23epMcY2PVor"
      }
    },
    {
      "cell_type": "code",
      "source": [
        "# ✅ Step 1: Write the C code to a file\n",
        "c_code = \"\"\"\n",
        "#include <stdio.h>\n",
        "#include <string.h>\n",
        "\n",
        "int main() {\n",
        "    char students[4][20] = {\"Ali\", \"Sara\", \"Zaid\"};\n",
        "    strcpy(students[3], \"Hina\"); // Add new student\n",
        "\n",
        "    char search[] = \"Zaid\";\n",
        "    int found = 0;\n",
        "\n",
        "    // Search for the student\n",
        "    for (int i = 0; i < 4; i++) {\n",
        "        if (strcmp(students[i], search) == 0) {\n",
        "            printf(\"%s found at index %d\\\\n\", search, i);\n",
        "            found = 1;\n",
        "            break;\n",
        "        }\n",
        "    }\n",
        "\n",
        "    if (!found)\n",
        "        printf(\"%s not found\\\\n\", search);\n",
        "\n",
        "    // Display all student names\n",
        "    printf(\"Student List:\\\\n\");\n",
        "    for (int i = 0; i < 4; i++) {\n",
        "        printf(\"%s\\\\n\", students[i]);\n",
        "    }\n",
        "\n",
        "    return 0;\n",
        "}\n",
        "\"\"\"\n",
        "\n",
        "# Write to a C file\n",
        "with open(\"lesson1.c\", \"w\") as f:\n",
        "    f.write(c_code)\n"
      ],
      "metadata": {
        "id": "soJiMH9BG5O2"
      },
      "execution_count": null,
      "outputs": []
    },
    {
      "cell_type": "code",
      "source": [
        "# ✅ Step 2: Compile the C file using GCC\n",
        "!gcc lesson1.c -o lesson1\n"
      ],
      "metadata": {
        "id": "7um0VsfQG71J"
      },
      "execution_count": null,
      "outputs": []
    },
    {
      "cell_type": "code",
      "source": [
        "# ✅ Step 3: Run the compiled C program\n",
        "!./lesson1\n"
      ],
      "metadata": {
        "colab": {
          "base_uri": "https://localhost:8080/"
        },
        "id": "p-WqywO_G8zo",
        "outputId": "9c069829-76ed-4f0b-b7f7-b67e90a73373"
      },
      "execution_count": null,
      "outputs": [
        {
          "output_type": "stream",
          "name": "stdout",
          "text": [
            "Zaid found at index 2\n",
            "Student List:\n",
            "Ali\n",
            "Sara\n",
            "Zaid\n",
            "Hina\n"
          ]
        }
      ]
    },
    {
      "cell_type": "markdown",
      "source": [
        "# JAVA"
      ],
      "metadata": {
        "id": "a8Qh-mSNO6vp"
      }
    },
    {
      "cell_type": "code",
      "source": [
        "!apt-get update -qq > /dev/null\n",
        "!apt-get install -y openjdk-11-jdk-headless -qq > /dev/null\n",
        "!java -version\n",
        "!javac -version"
      ],
      "metadata": {
        "id": "giG3PDJUNqc6",
        "outputId": "837f6d2d-0fd7-453e-ede9-87ca0b07b803",
        "colab": {
          "base_uri": "https://localhost:8080/"
        }
      },
      "execution_count": null,
      "outputs": [
        {
          "output_type": "stream",
          "name": "stdout",
          "text": [
            "W: Skipping acquire of configured file 'main/source/Sources' as repository 'https://r2u.stat.illinois.edu/ubuntu jammy InRelease' does not seem to provide it (sources.list entry misspelt?)\n",
            "openjdk version \"11.0.27\" 2025-04-15\n",
            "OpenJDK Runtime Environment (build 11.0.27+6-post-Ubuntu-0ubuntu122.04)\n",
            "OpenJDK 64-Bit Server VM (build 11.0.27+6-post-Ubuntu-0ubuntu122.04, mixed mode, sharing)\n",
            "javac 11.0.27\n"
          ]
        }
      ]
    },
    {
      "cell_type": "code",
      "source": [
        "%%writefile StudentListManager.java\n",
        "import java.util.ArrayList;\n",
        "import java.util.List;\n",
        "\n",
        "public class StudentListManager {\n",
        "    public static void main(String[] args) {\n",
        "        // Create a list of students\n",
        "        List<String> students = new ArrayList<>();\n",
        "        students.add(\"Ali\");\n",
        "        students.add(\"Sara\");\n",
        "        students.add(\"Zaid\");\n",
        "\n",
        "        System.out.println(\"Initial Student List: \" + students); // Just for observation\n",
        "\n",
        "        // Add a new student\n",
        "        students.add(\"Hina\");\n",
        "        System.out.println(\"After adding Hina: \" + students); // Just for observation\n",
        "\n",
        "        // Search for a student\n",
        "        String searchName = \"Zaid\";\n",
        "        if (students.contains(searchName)) {\n",
        "            System.out.println(searchName + \" found at index \" + students.indexOf(searchName));\n",
        "        } else {\n",
        "            System.out.println(searchName + \" not found\");\n",
        "        }\n",
        "\n",
        "        // Display all students\n",
        "        System.out.println(\"📋 Student List: \" + students);\n",
        "\n",
        "        // Search for a student not in the list\n",
        "        String searchNameNotFound = \"Usman\";\n",
        "        if (students.contains(searchNameNotFound)) {\n",
        "            System.out.println(searchNameNotFound + \" found at index \" + students.indexOf(searchNameNotFound));\n",
        "        } else {\n",
        "            System.out.println(searchNameNotFound + \" not found\");\n",
        "        }\n",
        "    }\n",
        "}"
      ],
      "metadata": {
        "id": "sx5NDMTPNzsw",
        "outputId": "b6a7902e-1ea6-4996-f413-af1472e35e7c",
        "colab": {
          "base_uri": "https://localhost:8080/"
        }
      },
      "execution_count": null,
      "outputs": [
        {
          "output_type": "stream",
          "name": "stdout",
          "text": [
            "Writing StudentListManager.java\n"
          ]
        }
      ]
    },
    {
      "cell_type": "code",
      "source": [
        "!javac StudentListManager.java\n",
        "!java StudentListManager"
      ],
      "metadata": {
        "id": "4o7oFRSjN3AC",
        "outputId": "4e60bd71-4bd3-4161-b481-b52adbe877aa",
        "colab": {
          "base_uri": "https://localhost:8080/"
        }
      },
      "execution_count": null,
      "outputs": [
        {
          "output_type": "stream",
          "name": "stdout",
          "text": [
            "Initial Student List: [Ali, Sara, Zaid]\n",
            "After adding Hina: [Ali, Sara, Zaid, Hina]\n",
            "Zaid found at index 2\n",
            "📋 Student List: [Ali, Sara, Zaid, Hina]\n",
            "Usman not found\n"
          ]
        }
      ]
    },
    {
      "cell_type": "code",
      "source": [
        "!javac StudentListManager.java\n",
        "!java StudentListManager"
      ],
      "metadata": {
        "id": "S24I2S44N6M8",
        "outputId": "7b7eb5fe-449d-447e-f54a-5395cf356bd0",
        "colab": {
          "base_uri": "https://localhost:8080/"
        }
      },
      "execution_count": null,
      "outputs": [
        {
          "output_type": "stream",
          "name": "stdout",
          "text": [
            "Initial Student List: [Ali, Sara, Zaid]\n",
            "After adding Hina: [Ali, Sara, Zaid, Hina]\n",
            "Zaid found at index 2\n",
            "📋 Student List: [Ali, Sara, Zaid, Hina]\n",
            "Usman not found\n"
          ]
        }
      ]
    },
    {
      "cell_type": "markdown",
      "source": [
        "# C++"
      ],
      "metadata": {
        "id": "Ftssmg_NOk04"
      }
    },
    {
      "cell_type": "code",
      "source": [
        "%%writefile student_manager.cpp\n",
        "#include <iostream> // For input/output operations (e.g., std::cout, std::endl)\n",
        "#include <vector>   // For std::vector (dynamic array)\n",
        "#include <string>   // For std::string (dynamic strings)\n",
        "#include <algorithm> // For std::find (to search in vector)\n",
        "\n",
        "int main() {\n",
        "    // Create a list of students using std::vector<std::string>\n",
        "    std::vector<std::string> students = {\"Ali\", \"Sara\", \"Zaid\"};\n",
        "\n",
        "    std::cout << \"Initial Student List: [\";\n",
        "    for (size_t i = 0; i < students.size(); ++i) {\n",
        "        std::cout << \"'\" << students[i] << \"'\";\n",
        "        if (i < students.size() - 1) {\n",
        "            std::cout << \", \";\n",
        "        }\n",
        "    }\n",
        "    std::cout << \"]\" << std::endl;\n",
        "\n",
        "    // Add a new student\n",
        "    students.push_back(\"Hina\"); // Equivalent to Python's append()\n",
        "\n",
        "    std::cout << \"After adding Hina: [\";\n",
        "    for (size_t i = 0; i < students.size(); ++i) {\n",
        "        std::cout << \"'\" << students[i] << \"'\";\n",
        "        if (i < students.size() - 1) {\n",
        "            std::cout << \", \";\n",
        "        }\n",
        "    }\n",
        "    std::cout << \"]\" << std::endl;\n",
        "\n",
        "    // Search for a student\n",
        "    std::string search_name = \"Zaid\";\n",
        "\n",
        "    // std::find returns an iterator to the element if found, or students.end() if not.\n",
        "    auto it = std::find(students.begin(), students.end(), search_name);\n",
        "\n",
        "    if (it != students.end()) {\n",
        "        // Calculate the index using std::distance\n",
        "        int index = std::distance(students.begin(), it);\n",
        "        std::cout << search_name << \" found at index \" << index << std::endl;\n",
        "    } else {\n",
        "        std::cout << search_name << \" not found\" << std::endl;\n",
        "    }\n",
        "\n",
        "    // Display all students\n",
        "    // Using a range-based for loop (C++11 and later) for cleaner iteration\n",
        "    std::cout << \"📋 Student List: [\";\n",
        "    for (const std::string& student : students) {\n",
        "        std::cout << \"'\" << student << \"'\";\n",
        "        // This is a simple way to avoid a trailing comma, assuming at least one element\n",
        "        if (&student != &students.back()) { // Not the last element\n",
        "            std::cout << \", \";\n",
        "        }\n",
        "    }\n",
        "    std::cout << \"]\" << std::endl;\n",
        "\n",
        "    // Search for a student not in the list\n",
        "    std::string search_name_not_found = \"Usman\";\n",
        "    it = std::find(students.begin(), students.end(), search_name_not_found);\n",
        "    if (it != students.end()) {\n",
        "        int index = std::distance(students.begin(), it);\n",
        "        std::cout << search_name_not_found << \" found at index \" << index << std::endl;\n",
        "    } else {\n",
        "        std::cout << search_name_not_found << \" not found\" << std::endl;\n",
        "    }\n",
        "\n",
        "    return 0; // Indicate successful program execution\n",
        "}"
      ],
      "metadata": {
        "id": "LF1lAnv1Onfu",
        "outputId": "a1133dd2-df9b-48b4-fa64-b64af36b04c9",
        "colab": {
          "base_uri": "https://localhost:8080/"
        }
      },
      "execution_count": null,
      "outputs": [
        {
          "output_type": "stream",
          "name": "stdout",
          "text": [
            "Writing student_manager.cpp\n"
          ]
        }
      ]
    },
    {
      "cell_type": "code",
      "source": [
        "!g++ student_manager.cpp -o student_manager"
      ],
      "metadata": {
        "id": "sGtM5Cr8OsRW"
      },
      "execution_count": null,
      "outputs": []
    },
    {
      "cell_type": "code",
      "source": [
        "!./student_manager"
      ],
      "metadata": {
        "id": "R59lJaheOumL",
        "outputId": "a8b940e2-21d3-4dac-93fb-c338f2d94b0e",
        "colab": {
          "base_uri": "https://localhost:8080/"
        }
      },
      "execution_count": null,
      "outputs": [
        {
          "output_type": "stream",
          "name": "stdout",
          "text": [
            "Initial Student List: ['Ali', 'Sara', 'Zaid']\n",
            "After adding Hina: ['Ali', 'Sara', 'Zaid', 'Hina']\n",
            "Zaid found at index 2\n",
            "📋 Student List: ['Ali', 'Sara', 'Zaid', 'Hina']\n",
            "Usman not found\n"
          ]
        }
      ]
    },
    {
      "cell_type": "markdown",
      "source": [
        "---\n",
        "\n",
        "# ✅ Summary\n",
        "\n",
        "- Data structures allow us to organize data efficiently.\n",
        "- Python provides built-in data structures like lists with dynamic memory.\n",
        "- C requires manual management but gives full control over memory layout.\n",
        "- Understanding both helps in mastering logic and system-level thinking.\n",
        "\n",
        "---\n",
        "\n",
        "### ⏭️ Coming Up Next:  \n",
        "**Lesson 2**: Primitive vs Non-Primitive Data Structures – with diagrams and real examples!\n"
      ],
      "metadata": {
        "id": "Jf3nnEo2G-m_"
      }
    }
  ]
}