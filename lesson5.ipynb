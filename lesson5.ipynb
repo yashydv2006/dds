{
  "nbformat": 4,
  "nbformat_minor": 0,
  "metadata": {
    "colab": {
      "provenance": [],
      "include_colab_link": true
    },
    "kernelspec": {
      "name": "python3",
      "display_name": "Python 3"
    },
    "language_info": {
      "name": "python"
    }
  },
  "cells": [
    {
      "cell_type": "markdown",
      "metadata": {
        "id": "view-in-github",
        "colab_type": "text"
      },
      "source": [
        "<a href=\"https://colab.research.google.com/github/yashydv2006/dds/blob/main/lesson5.ipynb\" target=\"_parent\"><img src=\"https://colab.research.google.com/assets/colab-badge.svg\" alt=\"Open In Colab\"/></a>"
      ]
    },
    {
      "cell_type": "markdown",
      "source": [
        "#📘 Lesson 5: Representation of Linear Arrays in Memory\n",
        "\n",
        "#🎯 Objectives:\n",
        "```\n",
        "Understand how linear arrays are stored in memory\n",
        "Learn the concept of contiguous memory allocation\n",
        "Explore memory layout for both static and dynamic arrays\n",
        "```\n",
        "#📚 What is a Linear Array?\n",
        "```\n",
        "A linear array is a collection of elements stored sequentially in memory.\n",
        "Each element is accessed using an index, with the first element at index 0.\n",
        "```\n",
        "\n",
        "\n",
        "```\n",
        "int arr[5] = {10, 20, 30, 40, 50};\n",
        "```\n",
        "\n"
      ],
      "metadata": {
        "id": "BMqgzJ6DxrCR"
      }
    },
    {
      "cell_type": "markdown",
      "source": [
        "\n",
        "### Memory Representation:\n",
        "\n",
        "| Index | Value | Address (if base = 1000, int size = 4) |\n",
        "| ----- | ----- | -------------------------------------- |\n",
        "| 0     | 10    | 1000                                   |\n",
        "| 1     | 20    | 1004                                   |\n",
        "| 2     | 30    | 1008                                   |\n",
        "| 3     | 40    | 1012                                   |\n",
        "| 4     | 50    | 1016                                   |\n"
      ],
      "metadata": {
        "id": "cK3qcG2RzAwP"
      }
    },
    {
      "cell_type": "markdown",
      "source": [
        "\n",
        "### 🧠 Real-world analogy:\n",
        "```\n",
        "Think of a row of mailboxes. Each mailbox (element) has an address, and they’re placed side by side in order.\n",
        "Knowing the first address, you can find the rest by counting steps.\n",
        "\n",
        "\n",
        "```\n",
        "\n",
        "### 🧠 Memory Representation:\n",
        "```\n",
        "If an array starts at address 1000 and each int takes 4 bytes,\n",
        "the addresses will be: 1000, 1004, 1008, 1012, ...\n",
        "\n",
        "This is called contiguous allocation.\n",
        "```"
      ],
      "metadata": {
        "id": "ReV0VMavywks"
      }
    },
    {
      "cell_type": "markdown",
      "source": [
        "#⚙️ Run C Code in Colab (GCC)\n",
        "✅ Step 1: Write C Code"
      ],
      "metadata": {
        "id": "Ikup7hT5yK3Z"
      }
    },
    {
      "cell_type": "code",
      "source": [
        "%%writefile Tarry.c\n",
        "#include <stdio.h>\n",
        "\n",
        "int main() {\n",
        "    int arr[5] = {10, 20, 30, 40, 50};\n",
        "    for (int i = 0; i < 5; i++) {\n",
        "        printf(\"Index: %d, Value: %d, Address: %p\\n\", i, arr[i], (void*)&arr[i]);\n",
        "    }\n",
        "    return 0;\n",
        "}"
      ],
      "metadata": {
        "id": "W3_necl_yUWH",
        "outputId": "37ea8422-f6f4-49f6-bdfa-cdbccbfc581a",
        "colab": {
          "base_uri": "https://localhost:8080/"
        }
      },
      "execution_count": null,
      "outputs": [
        {
          "output_type": "stream",
          "name": "stdout",
          "text": [
            "Overwriting Tarry.c\n"
          ]
        }
      ]
    },
    {
      "cell_type": "markdown",
      "source": [
        "✅ Step 2: Compile and Run C"
      ],
      "metadata": {
        "id": "B2eenFDZzZ26"
      }
    },
    {
      "cell_type": "code",
      "source": [
        "!gcc Tarry.c"
      ],
      "metadata": {
        "id": "cez6FcZuzbfj"
      },
      "execution_count": null,
      "outputs": []
    },
    {
      "cell_type": "code",
      "source": [
        "!./a.out"
      ],
      "metadata": {
        "id": "Y99lqGMSzlVs",
        "outputId": "4fec6e1e-24db-4280-9f32-bbdc4bc181f7",
        "colab": {
          "base_uri": "https://localhost:8080/"
        }
      },
      "execution_count": null,
      "outputs": [
        {
          "output_type": "stream",
          "name": "stdout",
          "text": [
            "Index: 0, Value: 10, Address: 0x7ffc9da9f790\n",
            "Index: 1, Value: 20, Address: 0x7ffc9da9f794\n",
            "Index: 2, Value: 30, Address: 0x7ffc9da9f798\n",
            "Index: 3, Value: 40, Address: 0x7ffc9da9f79c\n",
            "Index: 4, Value: 50, Address: 0x7ffc9da9f7a0\n"
          ]
        }
      ]
    },
    {
      "cell_type": "markdown",
      "source": [
        "---\n",
        "\n",
        "### 📘 Explanation:\n",
        "\n",
        "- Arrays in C are **stored sequentially** in memory\n",
        "- The memory address of each element increases based on the data type size\n",
        "- Helps in calculating element locations without traversing\n",
        "\n",
        "Now, let’s try this in Python (even though it handles memory differently).\n"
      ],
      "metadata": {
        "id": "E1gdQfHQ0Bck"
      }
    },
    {
      "cell_type": "code",
      "source": [
        "import array\n",
        "\n",
        "# Create a static array of integers\n",
        "arr = array.array('i', [10, 20, 30, 40, 50])\n",
        "\n",
        "print(\"Index\\tValue\\tMemory ID (approx)\")\n",
        "for i in range(len(arr)):\n",
        "    print(f\"{i}\\t{arr[i]}\\t{id(arr[i])}\")\n"
      ],
      "metadata": {
        "id": "OgSYB0A_0E2S",
        "outputId": "a47dbbf4-c3b0-4adb-b1df-bb37971c4175",
        "colab": {
          "base_uri": "https://localhost:8080/"
        }
      },
      "execution_count": null,
      "outputs": [
        {
          "output_type": "stream",
          "name": "stdout",
          "text": [
            "Index\tValue\tMemory ID (approx)\n",
            "0\t10\t10758024\n",
            "1\t20\t10758344\n",
            "2\t30\t10758664\n",
            "3\t40\t10758984\n",
            "4\t50\t10759304\n"
          ]
        }
      ]
    },
    {
      "cell_type": "markdown",
      "source": [
        "---\n",
        "\n",
        "## 🧠 Note on Python:\n",
        "\n",
        "- In Python, `id()` shows the **identity (memory location)** of the object\n",
        "- It does **not guarantee sequential memory**, because Python uses dynamic object management\n",
        "- Use **C** when you want full control over low-level memory\n",
        "\n",
        "---\n"
      ],
      "metadata": {
        "id": "kfCvF8q90Lj_"
      }
    },
    {
      "cell_type": "markdown",
      "source": [
        "## ✅ C++ Version of the Code"
      ],
      "metadata": {
        "id": "OhOs91bezlxD"
      }
    },
    {
      "cell_type": "code",
      "source": [
        "cpp_code = \"\"\"\n",
        "#include <iostream>\n",
        "using namespace std;\n",
        "\n",
        "int main() {\n",
        "    int arr[5] = {10, 20, 30, 40, 50};\n",
        "    for (int i = 0; i < 5; i++) {\n",
        "        cout << \"Index: \" << i << \", Value: \" << arr[i]\n",
        "             << \", Address: \" << &arr[i] << endl;\n",
        "    }\n",
        "    return 0;\n",
        "}\n",
        "\"\"\"\n",
        "\n",
        "with open(\"lesson5.cpp\", \"w\") as f:\n",
        "    f.write(cpp_code)\n"
      ],
      "metadata": {
        "id": "W3HJVcHNzp01"
      },
      "execution_count": null,
      "outputs": []
    },
    {
      "cell_type": "markdown",
      "source": [
        "🔧 Compile with:"
      ],
      "metadata": {
        "id": "8OmG2aUJz1rJ"
      }
    },
    {
      "cell_type": "code",
      "source": [
        "!g++ lesson5.cpp -o lesson5cpp\n",
        "!./lesson5cpp\n"
      ],
      "metadata": {
        "colab": {
          "base_uri": "https://localhost:8080/"
        },
        "id": "eDaN1XaLz3dq",
        "outputId": "50049b61-8210-442f-fc0a-91486fa106ae"
      },
      "execution_count": null,
      "outputs": [
        {
          "output_type": "stream",
          "name": "stdout",
          "text": [
            "Index: 0, Value: 10, Address: 0x7ffe382b1280\n",
            "Index: 1, Value: 20, Address: 0x7ffe382b1284\n",
            "Index: 2, Value: 30, Address: 0x7ffe382b1288\n",
            "Index: 3, Value: 40, Address: 0x7ffe382b128c\n",
            "Index: 4, Value: 50, Address: 0x7ffe382b1290\n"
          ]
        }
      ]
    },
    {
      "cell_type": "markdown",
      "source": [
        "## ✅ Summary\n",
        "\n",
        "- Arrays are stored as a **contiguous block** in memory\n",
        "- Each element’s address can be calculated: `Base + i × Size`\n",
        "- C gives exact memory control, while Python abstracts it\n",
        "\n",
        "---"
      ],
      "metadata": {
        "id": "kTyTkqTa0drh"
      }
    },
    {
      "cell_type": "markdown",
      "source": [
        "\n",
        "## 📘 Viva Questions:\n",
        "\n",
        "1. How are arrays stored in memory?\n",
        "2. How to calculate the address of an element in an array?\n",
        "3. What is the benefit of contiguous memory allocation?\n",
        "4. How does Python differ from C in array memory management?\n",
        "\n",
        "⏭️ Next: **Lesson 6: Algorithm Performance Analysis, Time & Space Complexity**\n",
        "\n"
      ],
      "metadata": {
        "id": "heqQjR9w0pVB"
      }
    }
  ]
}