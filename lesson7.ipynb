{
  "nbformat": 4,
  "nbformat_minor": 0,
  "metadata": {
    "colab": {
      "provenance": [],
      "include_colab_link": true
    },
    "kernelspec": {
      "name": "python3",
      "display_name": "Python 3"
    },
    "language_info": {
      "name": "python"
    }
  },
  "cells": [
    {
      "cell_type": "markdown",
      "metadata": {
        "id": "view-in-github",
        "colab_type": "text"
      },
      "source": [
        "<a href=\"https://colab.research.google.com/github/yashydv2006/dds/blob/main/lesson7.ipynb\" target=\"_parent\"><img src=\"https://colab.research.google.com/assets/colab-badge.svg\" alt=\"Open In Colab\"/></a>"
      ]
    },
    {
      "cell_type": "markdown",
      "source": [
        "# 📘 Lesson 7: Stack – Definition & Operations (Array Representation)\n",
        "\n",
        "## 🎯 Objectives:\n",
        "- Understand the concept of **Stack** (LIFO – Last In, First Out)\n",
        "- Implement stack operations using **arrays**\n",
        "- Handle stack overflow and underflow\n",
        "- Practice stack creation in both Python and C\n",
        "\n",
        "---\n",
        "\n",
        "## 🔁 What is a Stack?\n",
        "\n",
        "A **Stack** is a linear data structure where:\n",
        "- **Last** element inserted is the **first** to be removed\n",
        "- Works like a pile of plates\n",
        "\n",
        "### Main Operations:\n",
        "- `push(item)` – Add item to top\n",
        "- `pop()` – Remove top item\n",
        "- `peek()` – View top item without removing\n",
        "- `isEmpty()` – Check if stack is empty\n",
        "\n",
        "---\n",
        "\n",
        "## 💡 Real-Life Examples:\n",
        "- Undo feature in editors\n",
        "- Browser back button\n",
        "- Function call stack in recursion\n"
      ],
      "metadata": {
        "id": "IxVOv4Hc3RKm"
      }
    },
    {
      "cell_type": "code",
      "source": [
        "stack = []\n",
        "\n",
        "def push(val):\n",
        "    stack.append(val)\n",
        "    print(f\"Pushed: {val}\")\n",
        "\n",
        "def pop():\n",
        "    if not stack:\n",
        "        print(\"Stack Underflow!\")\n",
        "    else:\n",
        "        print(f\"Popped: {stack.pop()}\")\n",
        "\n",
        "def peek():\n",
        "    if not stack:\n",
        "        print(\"Stack is Empty\")\n",
        "    else:\n",
        "        print(f\"Top Element: {stack[-1]}\")\n",
        "\n",
        "def traverse():\n",
        "    print(\"Stack (Top to Bottom):\", stack[::-1])\n",
        "\n",
        "# 🔍 Test\n",
        "push(10)\n",
        "push(20)\n",
        "peek()\n",
        "traverse()\n",
        "pop()\n",
        "traverse()"
      ],
      "metadata": {
        "id": "c4zqgEJK3QXf"
      },
      "execution_count": null,
      "outputs": []
    },
    {
      "cell_type": "markdown",
      "source": [
        "---\n",
        "\n",
        "## 🧠 Stack in Memory (Array Representation in C)\n",
        "\n",
        "In C, stacks are implemented using a fixed-size array and a `top` index.\n",
        "\n",
        "### Stack Overflow:\n",
        "Occurs when trying to `push()` into a full stack\n",
        "\n",
        "### Stack Underflow:\n",
        "Occurs when trying to `pop()` from an empty stack\n"
      ],
      "metadata": {
        "id": "oE7ri_gV3Z4D"
      }
    },
    {
      "cell_type": "code",
      "source": [
        "c_code = \"\"\"\n",
        "#include <stdio.h>\n",
        "#define SIZE 5\n",
        "\n",
        "int stack[SIZE];\n",
        "int top = -1;\n",
        "\n",
        "void push(int val) {\n",
        "    if (top == SIZE - 1) {\n",
        "        printf(\"Stack Overflow!\\\\n\");\n",
        "    } else {\n",
        "        stack[++top] = val;\n",
        "        printf(\"Pushed: %d\\\\n\", val);\n",
        "    }\n",
        "}\n",
        "\n",
        "void pop() {\n",
        "    if (top == -1) {\n",
        "        printf(\"Stack Underflow!\\\\n\");\n",
        "    } else {\n",
        "        printf(\"Popped: %d\\\\n\", stack[top--]);\n",
        "    }\n",
        "}\n",
        "\n",
        "void peek() {\n",
        "    if (top == -1) {\n",
        "        printf(\"Stack is Empty\\\\n\");\n",
        "    } else {\n",
        "        printf(\"Top Element: %d\\\\n\", stack[top]);\n",
        "    }\n",
        "}\n",
        "\n",
        "void traverse() {\n",
        "    if (top == -1) {\n",
        "        printf(\"Stack is Empty\\\\n\");\n",
        "    } else {\n",
        "        printf(\"Stack (Top to Bottom): \");\n",
        "        for (int i = top; i >= 0; i--) {\n",
        "            printf(\"%d \", stack[i]);\n",
        "        }\n",
        "        printf(\"\\\\n\");\n",
        "    }\n",
        "}\n",
        "\n",
        "int main() {\n",
        "    push(10);\n",
        "    push(20);\n",
        "    peek();\n",
        "    traverse();\n",
        "    pop();\n",
        "    traverse();\n",
        "    return 0;\n",
        "}\n",
        "\"\"\"\n",
        "\n",
        "with open(\"lesson7_stack_array.c\", \"w\") as f:\n",
        "    f.write(c_code)\n"
      ],
      "metadata": {
        "id": "6gajaWzw3cBp"
      },
      "execution_count": null,
      "outputs": []
    },
    {
      "cell_type": "code",
      "source": [
        "!gcc lesson7_stack_array.c -o lesson7_stack\n"
      ],
      "metadata": {
        "id": "xaqe4S9S3feR"
      },
      "execution_count": null,
      "outputs": []
    },
    {
      "cell_type": "code",
      "source": [
        "!./lesson7_stack\n"
      ],
      "metadata": {
        "id": "0ZXp-qhI3iJj"
      },
      "execution_count": null,
      "outputs": []
    },
    {
      "cell_type": "markdown",
      "source": [
        "---\n",
        "\n",
        "## ✅ Summary\n",
        "\n",
        "- Stack is a **LIFO** data structure\n",
        "- Main operations: `push`, `pop`, `peek`, `traverse`\n",
        "- Implemented using array with `top` pointer\n",
        "- Proper checks for **overflow** and **underflow** are essential\n",
        "\n",
        "---\n",
        "\n",
        "## 📘 Viva Questions:\n",
        "\n",
        "1. What is a stack? How is it different from a queue?\n",
        "2. What are overflow and underflow in stack?\n",
        "3. How is a stack represented using array?\n",
        "4. Can we dynamically resize a stack in C?\n",
        "\n",
        "⏭️ Next: **Lesson 8: Stack using Dynamic Arrays**\n"
      ],
      "metadata": {
        "id": "N-Q2xZ0B3jcq"
      }
    }
  ]
}