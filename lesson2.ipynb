{
  "nbformat": 4,
  "nbformat_minor": 0,
  "metadata": {
    "colab": {
      "provenance": [],
      "include_colab_link": true
    },
    "kernelspec": {
      "name": "python3",
      "display_name": "Python 3"
    },
    "language_info": {
      "name": "python"
    }
  },
  "cells": [
    {
      "cell_type": "markdown",
      "metadata": {
        "id": "view-in-github",
        "colab_type": "text"
      },
      "source": [
        "<a href=\"https://colab.research.google.com/github/yashydv2006/dds/blob/main/lesson2.ipynb\" target=\"_parent\"><img src=\"https://colab.research.google.com/assets/colab-badge.svg\" alt=\"Open In Colab\"/></a>"
      ]
    },
    {
      "cell_type": "markdown",
      "source": [
        "# 📘 Lesson 2: Primitive vs Non-Primitive Data Structures\n",
        "\n",
        "---\n",
        "\n",
        "## 🎯 Objectives:\n",
        "- Understand the two main categories of data types: **Primitive** and **Non-Primitive**\n",
        "- Explore examples in Python and C\n",
        "- Learn how data is stored and used in both types\n"
      ],
      "metadata": {
        "id": "r91LAT-bFzWN"
      }
    },
    {
      "cell_type": "markdown",
      "source": [
        "## 🧩 What are Primitive Data Structures?\n",
        "\n",
        "Primitive data structures are the basic building blocks provided directly by the programming language.\n",
        "\n",
        "### Examples:\n",
        "- `int` – Integer numbers\n",
        "- `float` – Decimal numbers\n",
        "- `char` – Single characters\n",
        "- `bool` – Boolean values (true/false)\n",
        "\n",
        "They store **single values** and are often used in combination to build more complex structures.\n",
        "\n",
        "---\n",
        "\n",
        "## 🏗️ What are Non-Primitive Data Structures?\n",
        "\n",
        "Non-primitive data structures are built using primitive types. They are used to **store collections** of values and perform more complex operations.\n",
        "\n",
        "### Examples:\n",
        "- **Linear:** Arrays, Lists, Stacks, Queues, Linked Lists\n",
        "- **Non-Linear:** Trees, Graphs\n",
        "- **Key-Based:** Hash Tables, Dictionaries\n",
        "\n",
        "They help organize and manage large amounts of data efficiently.\n"
      ],
      "metadata": {
        "id": "emQbD2vGF4Xa"
      }
    },
    {
      "cell_type": "code",
      "execution_count": null,
      "metadata": {
        "id": "jS_HNNrnFw6I"
      },
      "outputs": [],
      "source": [
        "# ✅ Primitive data types\n",
        "num = 10             # int\n",
        "pi = 3.14            # float\n",
        "char = 'A'           # char (single-character string)\n",
        "is_valid = True      # bool\n",
        "\n",
        "# ✅ Non-primitive: List (like array)\n",
        "students = [\"Ali\", \"Sara\", \"Zaid\"]\n",
        "\n",
        "# Accessing elements\n",
        "print(\"Student at index 1:\", students[1])\n",
        "\n",
        "# Adding a new student\n",
        "students.append(\"Hina\")\n",
        "\n",
        "# Traversing the list\n",
        "print(\"📋 Student List:\")\n",
        "for name in students:\n",
        "    print(\"-\", name)\n"
      ]
    },
    {
      "cell_type": "markdown",
      "source": [
        "## 🧠 Observation:\n",
        "\n",
        "- Primitive types hold **single values**\n",
        "- Non-primitive types like `list` can hold **multiple values**\n",
        "- Lists allow **insertion, search, traversal** – features of data structures\n",
        "\n",
        "Now let’s try the same in **C**.\n"
      ],
      "metadata": {
        "id": "bQvEnr1HF-zj"
      }
    },
    {
      "cell_type": "code",
      "source": [
        "# ✅ Step 1: Write C code to a file\n",
        "c_code = \"\"\"\n",
        "#include <stdio.h>\n",
        "\n",
        "int main() {\n",
        "    // Primitive data types\n",
        "    int num = 10;\n",
        "    float pi = 3.14;\n",
        "    char ch = 'A';\n",
        "\n",
        "    // Non-primitive: array of names\n",
        "    char students[4][20] = {\"Ali\", \"Sara\", \"Zaid\", \"Hina\"};\n",
        "\n",
        "    printf(\"Student at index 1: %s\\\\n\", students[1]);\n",
        "\n",
        "    printf(\"Student List:\\\\n\");\n",
        "    for (int i = 0; i < 4; i++) {\n",
        "        printf(\"- %s\\\\n\", students[i]);\n",
        "    }\n",
        "\n",
        "    return 0;\n",
        "}\n",
        "\"\"\"\n",
        "\n",
        "# Save to .c file\n",
        "with open(\"lesson2.c\", \"w\") as f:\n",
        "    f.write(c_code)\n"
      ],
      "metadata": {
        "id": "SE77StdTGAKI"
      },
      "execution_count": null,
      "outputs": []
    },
    {
      "cell_type": "code",
      "source": [
        "# ✅ Compile the C program\n",
        "!gcc lesson2.c -o lesson2\n"
      ],
      "metadata": {
        "id": "xaMBW5s5GD4_"
      },
      "execution_count": null,
      "outputs": []
    },
    {
      "cell_type": "code",
      "source": [
        "# ✅ Run the compiled C program\n",
        "!./lesson2\n"
      ],
      "metadata": {
        "id": "melbabE5GFk2"
      },
      "execution_count": null,
      "outputs": []
    },
    {
      "cell_type": "markdown",
      "source": [
        "## ✅ Summary\n",
        "\n",
        "- **Primitive types**: int, float, char – store single values\n",
        "- **Non-primitive types**: arrays/lists – store collections of data\n",
        "- These structures form the basis of all advanced data structures (stacks, trees, etc.)\n",
        "\n",
        "---\n",
        "\n",
        "### ⏭️ Next:\n",
        "**Lesson 3** – Arrays and Memory Representation (with Python lists and C arrays)\n"
      ],
      "metadata": {
        "id": "ULvzuvaTGHVO"
      }
    }
  ]
}